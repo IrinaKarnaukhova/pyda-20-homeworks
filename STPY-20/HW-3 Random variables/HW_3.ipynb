{
 "cells": [
  {
   "cell_type": "markdown",
   "metadata": {},
   "source": [
    "Смоделировать игру против лотерейного автомата типа “777”. Игрок платит 1 руб., после чего выпадает случайное целое число, равномерно распределенное от 0 до 999. При некоторых значениях числа игрок получает выигрыш (см. справа)  \n",
    "\n",
    "Выгодна ли игра игроку?  \n",
    "\n",
    "Сколько в среднем приобретает или теряет игрок за одну игру?  \n",
    "\n",
    "777: 200 руб.  \n",
    "999: 100 руб.  \n",
    "555: 50 руб.  \n",
    "333: 15 руб.  \n",
    "111: 10 руб.  \n",
    "\\*77: 5 руб.  \n",
    "\\**7: 3 руб.  \n",
    "\\*00: 2 руб.  \n",
    "\\**0: 1 руб.  \n",
    "\n",
    "\\*– любая цифра  \n",
    "\n",
    "Дополнительное задание повышенной сложности. Теоретически рассчитать средний выигрыш (проигрыш) и сравнить с результатами моделирования"
   ]
  },
  {
   "cell_type": "code",
   "execution_count": 1,
   "metadata": {},
   "outputs": [],
   "source": [
    "import numpy as np\n"
   ]
  },
  {
   "cell_type": "code",
   "execution_count": 2,
   "metadata": {},
   "outputs": [],
   "source": [
    "winnings = {\n",
    "    777: 200,\n",
    "    999: 100,\n",
    "    555: 50,\n",
    "    333: 15,\n",
    "    111: 10\n",
    "}"
   ]
  },
  {
   "cell_type": "code",
   "execution_count": 3,
   "metadata": {},
   "outputs": [
    {
     "name": "stdout",
     "output_type": "stream",
     "text": [
      "0.802971\n"
     ]
    }
   ],
   "source": [
    "trials = 1000000\n",
    "price = 1\n",
    "prize = 0\n",
    "costs = price * trials\n",
    "\n",
    "for i in range(trials):\n",
    "    ran_score = np.random.randint(0, 1000)\n",
    "    if ran_score in winnings:\n",
    "        prize += winnings[ran_score]\n",
    "    elif ran_score % 100 == 77:\n",
    "        prize += 5\n",
    "    elif ran_score % 100 == 0:\n",
    "        prize += 2\n",
    "    elif ran_score % 10 == 7:\n",
    "        prize += 3\n",
    "    elif ran_score % 10 == 0:\n",
    "        prize += 1\n",
    "    \n",
    "gain = prize / costs\n",
    "print(gain)\n"
   ]
  },
  {
   "cell_type": "code",
   "execution_count": 4,
   "metadata": {},
   "outputs": [],
   "source": [
    "#Посчитаем теоретическое значение среднего выигрыша\n",
    "winnings_t = {\n",
    "    777: 200,\n",
    "    999: 100,\n",
    "    555: 50,\n",
    "    333: 15,\n",
    "    111: 10\n",
    "}\n"
   ]
  },
  {
   "cell_type": "code",
   "execution_count": 5,
   "metadata": {},
   "outputs": [],
   "source": [
    "#Наполним словарь выигрышей всеми возможными значениями \n",
    "for i in list(range(77, 1000, 100)):\n",
    "    if i not in winnings_t:\n",
    "        winnings_t[i] = 5\n"
   ]
  },
  {
   "cell_type": "code",
   "execution_count": 6,
   "metadata": {},
   "outputs": [],
   "source": [
    "for i in list(range(7, 1000, 10)):\n",
    "    if i not in winnings_t:\n",
    "        winnings_t[i] = 3\n"
   ]
  },
  {
   "cell_type": "code",
   "execution_count": 7,
   "metadata": {},
   "outputs": [],
   "source": [
    "for i in list(range(0, 1000, 100)):\n",
    "    if i not in winnings_t:\n",
    "        winnings_t[i] = 2\n"
   ]
  },
  {
   "cell_type": "code",
   "execution_count": 8,
   "metadata": {},
   "outputs": [],
   "source": [
    "for i in list(range(0, 1000, 10)):\n",
    "    if i not in winnings_t:\n",
    "        winnings_t[i] = 1\n"
   ]
  },
  {
   "cell_type": "code",
   "execution_count": 9,
   "metadata": {},
   "outputs": [
    {
     "data": {
      "text/plain": [
       "0.8000000000000004"
      ]
     },
     "execution_count": 9,
     "metadata": {},
     "output_type": "execute_result"
    }
   ],
   "source": [
    "gain_t = 0\n",
    "for i in winnings_t:\n",
    "    gain_t += winnings_t[i] * 1 / 1000\n",
    "gain_t\n"
   ]
  },
  {
   "cell_type": "code",
   "execution_count": 10,
   "metadata": {},
   "outputs": [],
   "source": [
    "#В среднем за одну игру игрок получает 80 копеек.\n",
    "#Игра не выгодна для игрока\n"
   ]
  }
 ],
 "metadata": {
  "kernelspec": {
   "display_name": "Python 3",
   "language": "python",
   "name": "python3"
  },
  "language_info": {
   "codemirror_mode": {
    "name": "ipython",
    "version": 3
   },
   "file_extension": ".py",
   "mimetype": "text/x-python",
   "name": "python",
   "nbconvert_exporter": "python",
   "pygments_lexer": "ipython3",
   "version": "3.8.5"
  }
 },
 "nbformat": 4,
 "nbformat_minor": 4
}

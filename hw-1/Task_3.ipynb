{
 "cells": [
  {
   "cell_type": "code",
   "execution_count": 1,
   "metadata": {
    "scrolled": true
   },
   "outputs": [
    {
     "name": "stdout",
     "output_type": "stream",
     "text": [
      "Введите месяцянварь\n"
     ]
    }
   ],
   "source": [
    "input_month = str.lower(input('Введите месяц'))"
   ]
  },
  {
   "cell_type": "code",
   "execution_count": 2,
   "metadata": {
    "scrolled": true
   },
   "outputs": [
    {
     "name": "stdout",
     "output_type": "stream",
     "text": [
      "Введите день (число)25\n"
     ]
    }
   ],
   "source": [
    "input_day = int(input('Введите день (число)'))"
   ]
  },
  {
   "cell_type": "code",
   "execution_count": 3,
   "metadata": {},
   "outputs": [],
   "source": [
    "if input_month in ('январь','март','май','июль','август','октябрь','декабрь'):\n",
    "    max_day = 31\n",
    "elif input_month == 'февраль':\n",
    "    max_day = 29\n",
    "else:\n",
    "    max_day = 30"
   ]
  },
  {
   "cell_type": "code",
   "execution_count": 4,
   "metadata": {},
   "outputs": [],
   "source": [
    "# проверка значения месяца\n",
    "if input_month not in ('январь','февраль','март','апрель','май','июнь','июль','август','сентябрь','октябрь','ноябрь','декабрь'):\n",
    "    input_month = input('Введенное значение месяца некорректно, попробуйте еще раз')"
   ]
  },
  {
   "cell_type": "code",
   "execution_count": 5,
   "metadata": {
    "scrolled": true
   },
   "outputs": [],
   "source": [
    "# проверка значения дня\n",
    "if input_day < 1 or input_day > max_day:\n",
    "    input_day = int(input('Введенное значение месяца некорректно, попробуйте еще раз'))"
   ]
  },
  {
   "cell_type": "code",
   "execution_count": 6,
   "metadata": {},
   "outputs": [],
   "source": [
    "if input_month not in ('январь','февраль','март','апрель','май','июнь','июль','август','сентябрь','октябрь','ноябрь','декабрь') or input_day < 1 or input_day > max_day:\n",
    "    zodiac = 'Неизвестно'\n",
    "elif input_month == 'март' and input_day >= 21 or input_month == 'апрель' and input_day <= 20:\n",
    "    zodiac = 'Овен'\n",
    "elif input_month == 'апрель' and input_day >= 21 or input_month == 'май' and input_day <= 21:\n",
    "    zodiac = 'Телец'\n",
    "elif input_month == 'май' and input_day >= 22 or input_month == 'июнь' and input_day <= 21:\n",
    "    zodiac = 'Близнецы'\n",
    "elif input_month == 'июнь' and input_day >= 22 or input_month == 'июль' and input_day <= 22:\n",
    "    zodiac = 'Рак'\n",
    "elif input_month == 'июль' and input_day >= 23 or input_month == 'август' and input_day <= 21:\n",
    "    zodiac = 'Лев'\n",
    "elif input_month == 'август' and input_day >= 22 or input_month == 'сентябрь' and input_day <= 23:\n",
    "    zodiac = 'Дева'\n",
    "elif input_month == 'сентябрь' and input_day >= 24 or input_month == 'октябрь' and input_day <= 23:\n",
    "    zodiac = 'Весы'\n",
    "elif input_month == 'октябрь' and input_day >= 24 or input_month == 'ноябрь' and input_day <= 22:\n",
    "    zodiac = 'Скорпион'\n",
    "elif input_month == 'ноябрь' and input_day >= 23 or input_month == 'декабрь' and input_day <= 22:\n",
    "    zodiac = 'Стрелец'\n",
    "elif input_month == 'декабрь' and input_day >= 23 or input_month == 'январь' and input_day <= 20:\n",
    "    zodiac = 'Козерог'\n",
    "elif input_month == 'январь' and input_day >= 21 or input_month == 'февраль' and input_day <= 19:\n",
    "    zodiac = 'Водолей'\n",
    "elif input_month == 'февраль' and input_day >= 20 or input_month == 'март' and input_day <= 20:\n",
    "    zodiac = 'Рыбы'"
   ]
  },
  {
   "cell_type": "code",
   "execution_count": 7,
   "metadata": {},
   "outputs": [
    {
     "name": "stdout",
     "output_type": "stream",
     "text": [
      "Ваш знак зодиака: Водолей\n"
     ]
    }
   ],
   "source": [
    "print('Ваш знак зодиака: ' + zodiac)"
   ]
  },
  {
   "cell_type": "code",
   "execution_count": null,
   "metadata": {},
   "outputs": [],
   "source": []
  },
  {
   "cell_type": "code",
   "execution_count": null,
   "metadata": {},
   "outputs": [],
   "source": []
  }
 ],
 "metadata": {
  "kernelspec": {
   "display_name": "Python 3",
   "language": "python",
   "name": "python3"
  },
  "language_info": {
   "codemirror_mode": {
    "name": "ipython",
    "version": 3
   },
   "file_extension": ".py",
   "mimetype": "text/x-python",
   "name": "python",
   "nbconvert_exporter": "python",
   "pygments_lexer": "ipython3",
   "version": "3.8.5"
  }
 },
 "nbformat": 4,
 "nbformat_minor": 4
}

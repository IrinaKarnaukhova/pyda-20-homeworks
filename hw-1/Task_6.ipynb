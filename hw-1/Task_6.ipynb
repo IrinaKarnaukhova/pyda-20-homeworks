{
 "cells": [
  {
   "cell_type": "code",
   "execution_count": 5,
   "metadata": {},
   "outputs": [],
   "source": [
    "import math"
   ]
  },
  {
   "cell_type": "code",
   "execution_count": 6,
   "metadata": {
    "scrolled": true
   },
   "outputs": [
    {
     "name": "stdout",
     "output_type": "stream",
     "text": [
      "Введите тип фигуры (круг, треугольник, прямоугольник)треугольник\n"
     ]
    }
   ],
   "source": [
    "figure = str.lower(input('Введите тип фигуры (круг, треугольник, прямоугольник)'))"
   ]
  },
  {
   "cell_type": "code",
   "execution_count": 9,
   "metadata": {},
   "outputs": [
    {
     "name": "stdout",
     "output_type": "stream",
     "text": [
      "Введите длину стороны A5\n",
      "Введите длину стороны B6\n",
      "Введите длину стороны C11\n"
     ]
    }
   ],
   "source": [
    "if figure == 'круг':\n",
    "    r = float(input('Введите радиус круга'))\n",
    "    area = math.pi * r ** 2\n",
    "elif figure == 'треугольник':\n",
    "    tr_side_a = float(input('Введите длину стороны A'))\n",
    "    tr_side_b = float(input('Введите длину стороны B'))\n",
    "    tr_side_c = float(input('Введите длину стороны C'))\n",
    "    #Формула Герона:\n",
    "    #S = √ p * (p − a) * (p − b) * (p − c), \n",
    "    #где a, b, c — стороны, p — полупериметр\n",
    "    p = (tr_side_a + tr_side_b + tr_side_c) / 2\n",
    "    # проверка соотношения сторон\n",
    "    if tr_side_a < p and tr_side_b < p and tr_side_c < p:\n",
    "        area = math.sqrt(p * (p - tr_side_a) * (p - tr_side_b) * (p - tr_side_c))\n",
    "    else:\n",
    "        area = -1\n",
    "elif figure == 'прямоугольник':\n",
    "    rec_side_a = float(input('Введите длину стороны A'))\n",
    "    rec_side_b = float(input('Введите длину стороны B'))\n",
    "    area = rec_side_a * rec_side_b\n",
    "else:\n",
    "    area = 0"
   ]
  },
  {
   "cell_type": "code",
   "execution_count": 10,
   "metadata": {},
   "outputs": [
    {
     "name": "stdout",
     "output_type": "stream",
     "text": [
      "Одна из сторон трегольника больше или равна сумме двух других. Площадь не может быть вычислена\n"
     ]
    }
   ],
   "source": [
    "if area > 0:\n",
    "    print('Площадь ' + figure + 'а: ' + str(area))\n",
    "elif area == -1:\n",
    "    print('Одна из сторон трегольника больше или равна сумме двух других. Площадь не может быть вычислена')\n",
    "else:\n",
    "    print('Тип фигуры указан неверно')"
   ]
  },
  {
   "cell_type": "code",
   "execution_count": null,
   "metadata": {},
   "outputs": [],
   "source": []
  }
 ],
 "metadata": {
  "kernelspec": {
   "display_name": "Python 3",
   "language": "python",
   "name": "python3"
  },
  "language_info": {
   "codemirror_mode": {
    "name": "ipython",
    "version": 3
   },
   "file_extension": ".py",
   "mimetype": "text/x-python",
   "name": "python",
   "nbconvert_exporter": "python",
   "pygments_lexer": "ipython3",
   "version": "3.8.5"
  }
 },
 "nbformat": 4,
 "nbformat_minor": 4
}

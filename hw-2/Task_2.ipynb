{
 "cells": [
  {
   "cell_type": "code",
   "execution_count": 4,
   "metadata": {},
   "outputs": [
    {
     "name": "stdout",
     "output_type": "stream",
     "text": [
      "Введите число3\n",
      "Введите число5\n",
      "Введите число6\n",
      "Введите число0\n",
      "14\n"
     ]
    }
   ],
   "source": [
    "a = int(input('Введите число'))\n",
    "sum_a = a\n",
    "while a != 0:\n",
    "    a = int(input('Введите число'))\n",
    "    sum_a += a\n",
    "print(sum_a)"
   ]
  }
 ],
 "metadata": {
  "kernelspec": {
   "display_name": "Python 3",
   "language": "python",
   "name": "python3"
  },
  "language_info": {
   "codemirror_mode": {
    "name": "ipython",
    "version": 3
   },
   "file_extension": ".py",
   "mimetype": "text/x-python",
   "name": "python",
   "nbconvert_exporter": "python",
   "pygments_lexer": "ipython3",
   "version": "3.8.5"
  }
 },
 "nbformat": 4,
 "nbformat_minor": 4
}

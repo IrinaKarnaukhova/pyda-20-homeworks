{
 "cells": [
  {
   "cell_type": "code",
   "execution_count": 2,
   "metadata": {},
   "outputs": [
    {
     "name": "stdout",
     "output_type": "stream",
     "text": [
      "Введите числа5 5 89 2 6 6 48 2 9 4 8 27 1 51 41 5 41 5 0 0 0 0 0 0 9 9 1 7 2 2 0 50 5 147\n"
     ]
    }
   ],
   "source": [
    "user_input = input('Введите числа')"
   ]
  },
  {
   "cell_type": "code",
   "execution_count": 13,
   "metadata": {},
   "outputs": [],
   "source": [
    "user_list = user_input.split(' ')"
   ]
  },
  {
   "cell_type": "code",
   "execution_count": 14,
   "metadata": {},
   "outputs": [],
   "source": [
    "for i in range(0, len(user_list)):\n",
    "    user_list[i] = int(user_list[i])"
   ]
  },
  {
   "cell_type": "code",
   "execution_count": 15,
   "metadata": {},
   "outputs": [],
   "source": [
    "user_list = sorted(user_list)\n",
    "#print(user_list)"
   ]
  },
  {
   "cell_type": "code",
   "execution_count": 16,
   "metadata": {},
   "outputs": [],
   "source": [
    "unique_numbers = []\n",
    "for i in user_list:\n",
    "    if i not in unique_numbers:\n",
    "        unique_numbers.append(i)\n",
    "#print(unique_numbers)"
   ]
  },
  {
   "cell_type": "code",
   "execution_count": 17,
   "metadata": {},
   "outputs": [],
   "source": [
    "counts = []\n",
    "for n in unique_numbers:\n",
    "    count = [n,0]\n",
    "    for m in user_list:\n",
    "        if m == n:\n",
    "            count[1] += 1\n",
    "    counts.append(count)\n",
    "#print(counts)"
   ]
  },
  {
   "cell_type": "code",
   "execution_count": 18,
   "metadata": {},
   "outputs": [
    {
     "name": "stdout",
     "output_type": "stream",
     "text": [
      "0 1 2 5 6 9 41 "
     ]
    }
   ],
   "source": [
    "for z in counts:\n",
    "    if z[1] > 1:\n",
    "        print(z[0], end = ' ')"
   ]
  },
  {
   "cell_type": "code",
   "execution_count": null,
   "metadata": {},
   "outputs": [],
   "source": []
  }
 ],
 "metadata": {
  "kernelspec": {
   "display_name": "Python 3",
   "language": "python",
   "name": "python3"
  },
  "language_info": {
   "codemirror_mode": {
    "name": "ipython",
    "version": 3
   },
   "file_extension": ".py",
   "mimetype": "text/x-python",
   "name": "python",
   "nbconvert_exporter": "python",
   "pygments_lexer": "ipython3",
   "version": "3.8.5"
  }
 },
 "nbformat": 4,
 "nbformat_minor": 4
}

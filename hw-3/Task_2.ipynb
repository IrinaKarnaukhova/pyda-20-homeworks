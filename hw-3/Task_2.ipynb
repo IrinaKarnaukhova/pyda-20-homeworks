{
 "cells": [
  {
   "cell_type": "code",
   "execution_count": 1,
   "metadata": {},
   "outputs": [],
   "source": [
    "queries = [\n",
    "    'смотреть сериалы онлайн',\n",
    "    'новости спорта',\n",
    "    'афиша кино',\n",
    "    'курс доллара',\n",
    "    'сериалы этим летом',\n",
    "    'курс по питону',\n",
    "    'сериалы про спорт',\n",
    "    'самые популярные поисковые запросы',\n",
    "    'бой Хабиба Нурмагомедова и Дастина Пуарье',\n",
    "    'пожар в соборе Парижской Богоматери',\n",
    "    'как сделать антисептик вино из винограда и маску'\n",
    "]"
   ]
  },
  {
   "cell_type": "code",
   "execution_count": 2,
   "metadata": {},
   "outputs": [],
   "source": [
    "#lengh of queries\n",
    "queries_len = []\n",
    "for q in queries:\n",
    "    q_list = q.split(' ')\n",
    "    queries_len.append(len(q_list))"
   ]
  },
  {
   "cell_type": "code",
   "execution_count": 3,
   "metadata": {},
   "outputs": [],
   "source": [
    "queries_len = sorted(queries_len)"
   ]
  },
  {
   "cell_type": "code",
   "execution_count": 4,
   "metadata": {},
   "outputs": [],
   "source": [
    "queries_len_unique = list(set(queries_len))"
   ]
  },
  {
   "cell_type": "code",
   "execution_count": 5,
   "metadata": {},
   "outputs": [],
   "source": [
    "frequency = []"
   ]
  },
  {
   "cell_type": "code",
   "execution_count": 6,
   "metadata": {},
   "outputs": [],
   "source": [
    "for i in queries_len_unique:\n",
    "    f = 0\n",
    "    for l in queries_len:\n",
    "        if l == i:\n",
    "            f += 1\n",
    "    frequency.append([i, f])"
   ]
  },
  {
   "cell_type": "code",
   "execution_count": 7,
   "metadata": {},
   "outputs": [],
   "source": [
    "freq_sum = 0\n",
    "for element in frequency:\n",
    "    freq_sum += element[1]"
   ]
  },
  {
   "cell_type": "code",
   "execution_count": 8,
   "metadata": {},
   "outputs": [
    {
     "name": "stdout",
     "output_type": "stream",
     "text": [
      "Поисковых запросов, содержащих 2 слов(а): 27.27%\n",
      "Поисковых запросов, содержащих 3 слов(а): 36.36%\n",
      "Поисковых запросов, содержащих 4 слов(а): 9.09%\n",
      "Поисковых запросов, содержащих 5 слов(а): 9.09%\n",
      "Поисковых запросов, содержащих 6 слов(а): 9.09%\n",
      "Поисковых запросов, содержащих 8 слов(а): 9.09%\n"
     ]
    }
   ],
   "source": [
    "for element in frequency:\n",
    "    percent = round(element[1] / freq_sum * 100, 2)\n",
    "    print(f'Поисковых запросов, содержащих {element[0]} слов(а): {percent}%')"
   ]
  },
  {
   "cell_type": "code",
   "execution_count": null,
   "metadata": {},
   "outputs": [],
   "source": []
  }
 ],
 "metadata": {
  "kernelspec": {
   "display_name": "Python 3",
   "language": "python",
   "name": "python3"
  },
  "language_info": {
   "codemirror_mode": {
    "name": "ipython",
    "version": 3
   },
   "file_extension": ".py",
   "mimetype": "text/x-python",
   "name": "python",
   "nbconvert_exporter": "python",
   "pygments_lexer": "ipython3",
   "version": "3.8.5"
  }
 },
 "nbformat": 4,
 "nbformat_minor": 4
}

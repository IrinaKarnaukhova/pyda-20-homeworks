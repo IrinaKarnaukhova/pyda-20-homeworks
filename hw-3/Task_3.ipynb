{
 "cells": [
  {
   "cell_type": "code",
   "execution_count": 1,
   "metadata": {},
   "outputs": [],
   "source": [
    "results = {\n",
    "    'vk': {'revenue': 103, 'cost': 98},\n",
    "    'yandex': {'revenue': 179, 'cost': 153},\n",
    "    'facebook': {'revenue': 103, 'cost': 110},\n",
    "    'adwords': {'revenue': 35, 'cost': 34},\n",
    "    'twitter': {'revenue': 11, 'cost': 24},\n",
    "}"
   ]
  },
  {
   "cell_type": "code",
   "execution_count": 2,
   "metadata": {},
   "outputs": [
    {
     "name": "stdout",
     "output_type": "stream",
     "text": [
      "{'adwords': {'cost': 34, 'revenue': 35, 'ROI': 2.94}\n",
      "'facebook': {'cost': 110, 'revenue': 103, 'ROI': -6.36}\n",
      "'twitter': {'cost': 24, 'revenue': 11, 'ROI': -54.17}\n",
      "'vk': {'cost': 98, 'revenue': 103, 'ROI': 5.1}\n",
      "'yandex': {'cost': 153, 'revenue': 179, 'ROI': 16.99}}\n"
     ]
    }
   ],
   "source": [
    "print('{', end='')\n",
    "keys = sorted(results.keys())\n",
    "num_of_elements = len(keys)\n",
    "for key in keys:\n",
    "    results[key]['ROI'] = round((results[key]['revenue'] / results[key]['cost'] -1) * 100, 2)\n",
    "    if keys.index(key) == num_of_elements - 1:\n",
    "        eoline = '}'\n",
    "    else:\n",
    "        eoline = ''\n",
    "    print(\n",
    "        f\"'{key}': \" + \n",
    "        '{' + f\"'cost': {results[key]['cost']}, 'revenue': {results[key]['revenue']}, 'ROI': {results[key]['ROI']}\" + \n",
    "        '}' + \n",
    "        eoline\n",
    "    )"
   ]
  }
 ],
 "metadata": {
  "kernelspec": {
   "display_name": "Python 3",
   "language": "python",
   "name": "python3"
  },
  "language_info": {
   "codemirror_mode": {
    "name": "ipython",
    "version": 3
   },
   "file_extension": ".py",
   "mimetype": "text/x-python",
   "name": "python",
   "nbconvert_exporter": "python",
   "pygments_lexer": "ipython3",
   "version": "3.8.5"
  }
 },
 "nbformat": 4,
 "nbformat_minor": 4
}

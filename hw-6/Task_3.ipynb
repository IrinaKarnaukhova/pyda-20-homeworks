{
 "cells": [
  {
   "cell_type": "markdown",
   "metadata": {},
   "source": [
    "#### Задание 3\n",
    "\n",
    "Напишите функцию date_range, которая возвращает список дат за период от start_date до end_date. Даты должны вводиться в формате YYYY-MM-DD. В случае неверного формата или при start_date > end_date должен возвращаться пустой список."
   ]
  },
  {
   "cell_type": "code",
   "execution_count": 1,
   "metadata": {},
   "outputs": [],
   "source": [
    "from datetime import datetime as dt\n",
    "from datetime import timedelta\n"
   ]
  },
  {
   "cell_type": "code",
   "execution_count": 2,
   "metadata": {
    "scrolled": true
   },
   "outputs": [
    {
     "name": "stdout",
     "output_type": "stream",
     "text": [
      "Введите начальную дату в формате \"YYYY-MM-DD\"2021-04-02\n",
      "Введите конечную дату в формате \"YYYY-MM-DD\"2021-04-20\n"
     ]
    }
   ],
   "source": [
    "start_date_str = input('Введите начальную дату в формате \"YYYY-MM-DD\"')\n",
    "end_date_str = input('Введите конечную дату в формате \"YYYY-MM-DD\"')\n"
   ]
  },
  {
   "cell_type": "code",
   "execution_count": 3,
   "metadata": {},
   "outputs": [],
   "source": [
    "def date_range(start_date, end_date):\n",
    "    result = []\n",
    "    try:\n",
    "        date_start_dt = dt.strptime(start_date, '%Y-%m-%d')\n",
    "        date_end_dt = dt.strptime(end_date, '%Y-%m-%d')\n",
    "        date_i = date_start_dt\n",
    "        while date_start_dt <= date_i <= date_end_dt:\n",
    "            result.append(date_i)\n",
    "            date_i += timedelta(days=1)\n",
    "    except:\n",
    "        pass\n",
    "    return result\n"
   ]
  },
  {
   "cell_type": "code",
   "execution_count": 4,
   "metadata": {},
   "outputs": [
    {
     "data": {
      "text/plain": [
       "[datetime.datetime(2021, 4, 2, 0, 0),\n",
       " datetime.datetime(2021, 4, 3, 0, 0),\n",
       " datetime.datetime(2021, 4, 4, 0, 0),\n",
       " datetime.datetime(2021, 4, 5, 0, 0),\n",
       " datetime.datetime(2021, 4, 6, 0, 0),\n",
       " datetime.datetime(2021, 4, 7, 0, 0),\n",
       " datetime.datetime(2021, 4, 8, 0, 0),\n",
       " datetime.datetime(2021, 4, 9, 0, 0),\n",
       " datetime.datetime(2021, 4, 10, 0, 0),\n",
       " datetime.datetime(2021, 4, 11, 0, 0),\n",
       " datetime.datetime(2021, 4, 12, 0, 0),\n",
       " datetime.datetime(2021, 4, 13, 0, 0),\n",
       " datetime.datetime(2021, 4, 14, 0, 0),\n",
       " datetime.datetime(2021, 4, 15, 0, 0),\n",
       " datetime.datetime(2021, 4, 16, 0, 0),\n",
       " datetime.datetime(2021, 4, 17, 0, 0),\n",
       " datetime.datetime(2021, 4, 18, 0, 0),\n",
       " datetime.datetime(2021, 4, 19, 0, 0),\n",
       " datetime.datetime(2021, 4, 20, 0, 0)]"
      ]
     },
     "execution_count": 4,
     "metadata": {},
     "output_type": "execute_result"
    }
   ],
   "source": [
    "date_range(start_date_str, end_date_str)\n"
   ]
  }
 ],
 "metadata": {
  "kernelspec": {
   "display_name": "Python 3",
   "language": "python",
   "name": "python3"
  },
  "language_info": {
   "codemirror_mode": {
    "name": "ipython",
    "version": 3
   },
   "file_extension": ".py",
   "mimetype": "text/x-python",
   "name": "python",
   "nbconvert_exporter": "python",
   "pygments_lexer": "ipython3",
   "version": "3.8.5"
  }
 },
 "nbformat": 4,
 "nbformat_minor": 4
}
